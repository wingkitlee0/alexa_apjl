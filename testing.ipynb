{
 "cells": [
  {
   "cell_type": "code",
   "execution_count": 3,
   "metadata": {},
   "outputs": [],
   "source": [
    "import feedparser"
   ]
  },
  {
   "cell_type": "code",
   "execution_count": 4,
   "metadata": {},
   "outputs": [],
   "source": [
    "?feedparser"
   ]
  },
  {
   "cell_type": "code",
   "execution_count": 11,
   "metadata": {},
   "outputs": [],
   "source": [
    "APJL_URL = \"./0004-637X\"\n",
    "\n"
   ]
  },
  {
   "cell_type": "code",
   "execution_count": 12,
   "metadata": {},
   "outputs": [
    {
     "data": {
      "text/plain": [
       "dict_keys(['feed', 'entries', 'bozo', 'encoding', 'version', 'namespaces'])"
      ]
     },
     "execution_count": 12,
     "metadata": {},
     "output_type": "execute_result"
    }
   ],
   "source": []
  },
  {
   "cell_type": "code",
   "execution_count": 14,
   "metadata": {},
   "outputs": [],
   "source": [
    "feed = feedparser.parse(APJL_URL)\n",
    "feed.keys()\n",
    "entrylist = []\n",
    "for ent in feed[\"entries\"]:\n",
    "    entrylist.append(ent)"
   ]
  },
  {
   "cell_type": "code",
   "execution_count": 16,
   "metadata": {},
   "outputs": [
    {
     "data": {
      "text/plain": [
       "23"
      ]
     },
     "execution_count": 16,
     "metadata": {},
     "output_type": "execute_result"
    }
   ],
   "source": [
    "len(entrylist)"
   ]
  },
  {
   "cell_type": "code",
   "execution_count": 17,
   "metadata": {},
   "outputs": [],
   "source": [
    "ent = entrylist[0]"
   ]
  },
  {
   "cell_type": "code",
   "execution_count": 18,
   "metadata": {},
   "outputs": [
    {
     "data": {
      "text/plain": [
       "dict_keys(['id', 'title', 'title_detail', 'links', 'link', 'summary', 'summary_detail', 'authors', 'author', 'author_detail', 'updated', 'updated_parsed', 'dc_source', 'iop_authors', 'iop_citation', 'iop_pdf', 'prism_coverdisplaydate', 'prism_number', 'prism_volume', 'prism_publicationname', 'prism_startingpage', 'prism_doi'])"
      ]
     },
     "execution_count": 18,
     "metadata": {},
     "output_type": "execute_result"
    }
   ],
   "source": [
    "ent.keys()"
   ]
  },
  {
   "cell_type": "code",
   "execution_count": 19,
   "metadata": {},
   "outputs": [
    {
     "data": {
      "text/plain": [
       "'http://iopscience.iop.org/0004-637X/869/1/24'"
      ]
     },
     "execution_count": 19,
     "metadata": {},
     "output_type": "execute_result"
    }
   ],
   "source": [
    "ent['id']"
   ]
  },
  {
   "cell_type": "code",
   "execution_count": 20,
   "metadata": {},
   "outputs": [
    {
     "data": {
      "text/plain": [
       "'Comprehensive Measurements of the Volume-phase Holographic Gratings for the Dark Energy\\r\\nSpectroscopic Instrument'"
      ]
     },
     "execution_count": 20,
     "metadata": {},
     "output_type": "execute_result"
    }
   ],
   "source": [
    "ent['title']"
   ]
  },
  {
   "cell_type": "code",
   "execution_count": 33,
   "metadata": {},
   "outputs": [
    {
     "data": {
      "text/plain": [
       "'The Dark Energy Spectroscopic Instrument (DESI) is a Stage IV ground-based dark energy experiment  that will be employed on the Mayall 4 m Telescope to study the expansion history of the universe. In  the era of massively multiplexed fiber-fed spectrographs, DESI will push the boundaries of fiber  spectroscopy with a design capable of taking 5000 simultaneous spectra over 360 to 980 nm. The  instrument utilizes a suite of three-channel spectrographs, where volume-phase holographic (VPH)  gratings provide dispersions. Thirty-six VPH gratings were produced and their performances were  evaluated at the Lawrence Berkeley National Laboratory. We present the design and the evaluation  tests for the production run of the VPH gratings, verifying the incidence angle, area-weighted  efficiency, and wavefront errors (WFEs). We also present the specialized test set-up developed  on-site to assess the grating performances. Measurements of the VPH gratings show high consistency  in area-weighted effici...'"
      ]
     },
     "execution_count": 33,
     "metadata": {},
     "output_type": "execute_result"
    }
   ],
   "source": [
    "ent['summary'].replace(\"\\n\", \" \") \\\n",
    "    .replace(\"\\r\", \" \")"
   ]
  },
  {
   "cell_type": "code",
   "execution_count": 133,
   "metadata": {},
   "outputs": [],
   "source": [
    "from flask import Flask, jsonify, Response\n",
    "import feedparser\n",
    "from html.parser import HTMLParser\n",
    "import dateutil.parser\n",
    "import datetime\n",
    "import logging\n",
    "import json\n",
    "\n",
    "def simplecleanup(string):\n",
    "    return string.replace(\"\\n\", \" \") \\\n",
    "            .replace(\"\\r\", \" \") \\\n",
    "            .replace(\"∼\", \"around \")\n",
    "\n",
    "class ArticleEntry_APJL:\n",
    "    \"\"\"\n",
    "        a class for an article entry\n",
    "    \"\"\"\n",
    "    Nauthor_display = 3 # only show the first three authors\n",
    "\n",
    "    def __init__(self, entry, updateDate_str, index=0):\n",
    "        self.entry = entry\n",
    "        self.updateDate_str = updateDate_str\n",
    "        self.index = index\n",
    "        self.id = str(uuid.uuid3(uuid.NAMESPACE_URL, self.entry['id']))\n",
    "        self.title = simplecleanup(self.entry['title'])\n",
    "        self.link = self.entry['link']\n",
    "        self.updateDate = self.generate_updateDate()\n",
    "\n",
    "        self.summary = self.process_summary(self.entry['summary'])\n",
    "\n",
    "        self.generate_author_list()\n",
    "        self.maintext = self.generate_mainText_from_summary()\n",
    "\n",
    "    def generate_updateDate(self):\n",
    "        updateDate_datetime = dateutil.parser.parse(self.updateDate_str)\n",
    "        updateDate_datetime += datetime.timedelta(seconds=int(self.index))\n",
    "\n",
    "        return updateDate_datetime.strftime(\"%Y-%m-%dT%H:%M:%S.%fZ\")\n",
    "\n",
    "    def generate_author_list(self):\n",
    "        self.author_list_full = self.entry['author'].split(\", \")\n",
    "        self.Nauthor = len(self.author_list_full)\n",
    "\n",
    "        na_short = min(self.Nauthor, self.Nauthor_display) # show 3 or less authors\n",
    "        self.author_list_short = []\n",
    "        for i in range(na_short):\n",
    "            self.author_list_short.append(self.author_list_full[i])\n",
    "\n",
    "        if na_short < self.Nauthor:\n",
    "            self.author_list_short.append(\"et al\")\n",
    "    \n",
    "    def generate_mainText_from_summary(self):\n",
    "        \"\"\"\n",
    "            convert the \"summary\" from arxiv rss (v2) into mainText format.\n",
    "        \"\"\"\n",
    "        \n",
    "        maintext = self.title + \"by \" + \", \".join(self.author_list_short) + \". \" \\\n",
    "            + self.summary\n",
    "\n",
    "        return maintext\n",
    "\n",
    "    def process_summary(self, raw_summary):\n",
    "        return raw_summary.replace(\"$\",\" \") \\\n",
    "            .replace(\"\\r\", \" \") \\\n",
    "            .replace(\"Msun\", \" solar masses\") \\\n",
    "            .replace(\"M_odot\", \"solar masses\") \\\n",
    "            .replace(\"<\", \"less than\") \\\n",
    "            .replace(\">\", \"greater than\") \\\n",
    "            .replace(\"\\n\", \" \") \\\n",
    "            .replace(\"~\", \" about \") \\\n",
    "            .replace(\"\\\\rm\", \" \") \\\n",
    "            .replace(\"\\\\\", \" \") \\\n",
    "            .replace(\"sim\", \"about\") \\\n",
    "            .replace(\"mu m\", \"micro-meters\") \\\n",
    "            .replace(\"_{\", \" \") \\\n",
    "            .replace(\"}\", \" \") \\\n",
    "            .replace(\"_\", \" \") \\\n",
    "\n",
    "\n",
    "def construct_alexa_dict(entry, updateDate_str, index):\n",
    "    \"\"\"\n",
    "        1st version without author names..\n",
    "        \n",
    "        Example\n",
    "    \"\"\"\n",
    "    this = ArticleEntry_APJL(entry, updateDate_str, index)\n",
    "    data_dict = {}\n",
    "    data_dict[\"uid\"] = this.id\n",
    "    data_dict[\"updateDate\"] = this.updateDate\n",
    "    data_dict[\"titleText\"] = this.title\n",
    "    data_dict[\"redirectionUrl\"] = this.link\n",
    "    data_dict[\"mainText\"] = this.maintext\n",
    "    \n",
    "    return data_dict"
   ]
  },
  {
   "cell_type": "code",
   "execution_count": 134,
   "metadata": {
    "scrolled": false
   },
   "outputs": [
    {
     "name": "stdout",
     "output_type": "stream",
     "text": [
      "2018-12-07T00:00:00Z\n",
      "Comprehensive Measurements of the Volume-phase Holographic Gratings for the Dark Energy  Spectroscopic Instrument \n",
      "\n",
      "The Dark Energy Spectroscopic Instrument (DESI) is a Stage IV ground-based dark energy experiment  that will be employed on the Mayall 4 m Telescope to study the expansion history of the universe. In  the era of massively multiplexed fiber-fed spectrographs, DESI will push the boundaries of fiber  spectroscopy with a design capable of taking 5000 simultaneous spectra over 360 to 980 nm. The  instrument utilizes a suite of three-channel spectrographs, where volume-phase holographic (VPH)  gratings provide dispersions. Thirty-six VPH gratings were produced and their performances were  evaluated at the Lawrence Berkeley National Laboratory. We present the design and the evaluation  tests for the production run of the VPH gratings, verifying the incidence angle, area-weighted  efficiency, and wavefront errors (WFEs). We also present the specialized test set-up developed  on-site to assess the grating performances. Measurements of the VPH gratings show high consistency  in area-weighted effici... \n",
      "\n",
      "2018-12-07T00:00:00Z\n",
      "Quest for the Donor Star in the Magnetic Precataclysmic Variable V1082 Sgr \n",
      "\n",
      "We obtained high-resolution spectra and multicolor photometry of V1082 Sgr to study the donor star  in this 20.8 hr orbital period binary, which is assumed to be a detached system. We measured the  rotational velocity ( ##IMG## [http://ej.iop.org/images/0004-637X/869/1/22/apjaaec02ieqn1.gif]  {$v\\sin i=26.5\\pm 2.0$} km s −1 ), which, coupled with the constraints on the white dwarf mass from  the X-ray spectroscopy, leads to the conclusion that the donor star barely fills 70% of its  corresponding Roche lobe radius. It appears to be a slightly evolved K2-type star. This conclusion  was further supported by a recently published distance to the binary system measured by the Gaia  mission. At the same time, it becomes difficult to explain a very high (>10 −9 ##IMG##  [http://ej.iop.org/images/0004-637X/869/1/22/apjaaec02ieqn2.gif] {${M}_{\\odot  }\\,{\\mathrm{yr}}^{-1}$} ) mass transfer and mass accretion rate in a detached ... \n",
      "\n",
      "2018-12-07T00:00:00Z\n",
      "Dependence of the Spiral Arms Pitch Angle on Wavelength as a Test of the Density Wave Theory \n",
      "\n",
      "Large-scale galactic shocks, predicted by density wave theory, trigger star formation (SF-arms)  downstream from the potential of the oldest stars (P-arms), resulting in a color jump from red to  blue across spiral arms in the direction of rotation, while aging of these newly formed young stars  induces the opposite but coexisting classic age gradient further downstream from the SF-arms. As the  techniques for measuring pitch angle are intensity-weighted, they trace both the SF-arms and P-arms  and are not sensitive to the classic age gradient. Consequently, the measured pitch angle of spiral  arms should be systematically smaller in bluer bandpasses compared to redder bandpasses. We test  these predictions using a comprehensive sample of high-quality optical ( BVRI ) images of bright,  nearby spiral galaxies acquired as part of the Carnegie-Irvine Galaxy Survey, supplemented by  Spitzer 3.6 μ m data to probe evolved stars and Galaxy Evolution Explorer ultraviole... \n",
      "\n",
      "2018-12-07T00:00:00Z\n",
      "Radio-loud Active Galactic Nucleus Variability from Three-dimensional Propagating Relativistic Jets \n",
      "\n",
      "The enormous sizes and variability of emission of radio-loud active galactic nuclei arise from the  relativistic flows of plasma along two oppositely directed jets. We use the Athena hydrodynamics  code to simulate an extensive suite of 54 propagating three-dimensional relativistic jets with wide  ranges of input jet velocities and jet-to-ambient matter density ratios. We determine which  parameter sets yield unstable jets that produce jet-dominated Fanaroff–Riley I (FR I) radio galaxy  morphologies and which tend to produce stable jets with hot spots and FR II morphologies. Nearly all  our simulations involve jets with internal pressures matched to those of the ambient medium but we  also consider over-pressured jets and discuss differences from the standard ones. We also show that  the results are not strongly dependent on the adiabatic index of the fluid. We focus on simulations  that remain stable for extended distances (60–240 times the initial jet radius). Scaled to the much  smalle... \n",
      "\n",
      "2018-12-07T00:00:00Z\n",
      "Investigating Inner and Large-scale Physical Environments of IRAS 17008-4040 and IRAS 17009-4042  toward L = 345.°5, B = 0.°3 \n",
      "\n",
      "We present a multiwavelength observational study of IRAS 17008-4040 and IRAS 17009-4042 to probe the  star formation (SF) mechanisms operational in both the sites. Each IRAS site is embedded within a  massive ATLASGAL 870 μ m clump (around 2430–2900 M ⊙ ), and several parsec-scale filaments at 160 μ m are  radially directed toward these clumps (at T d around  25–32 K). The analysis of the Spitzer and VVV  photometric data depicts a group of infrared-excess sources toward both the clumps, suggesting the  ongoing SF activities. In each IRAS site, high-resolution GMRT radio maps at 0.61 and 1.28 GHz  confirm the presence of H ii regions, which are powered by B-type stars. In the site IRAS  17008-4040, a previously known O-star candidate without an H ii region is identified as an infrared  counterpart of the 6.7 GHz methanol maser emission (i.e., IRcmme). Based on the Very Larg... \n",
      "\n",
      "2018-12-07T00:00:00Z\n",
      "A Survey of Atomic Carbon [C i ] in High-redshift Main-sequence Galaxies \n",
      "\n",
      "We present the first results of an Atacama Large Millimeter Array survey of the lower fine-structure  line of atomic carbon [C i ] ##IMG##  [http://ej.iop.org/images/0004-637X/869/1/27/apjaaeb88ieqn1.gif]  {${(}^{3}{P}_{1}\\,\\mbox{--}{}^{3}{P}_{0})$} in far-infrared-selected galaxies on the main sequence  at z around  1.2 in the COSMOS field. We compare our sample with a comprehensive compilation of data  available in the literature for local and high-redshift starbursting systems and quasars. We show  that the [C i ] ( 3 P 1 → 3 P 0 ) luminosity correlates on global scales with the infrared  luminosity ##IMG## [http://ej.iop.org/images/0004-637X/869/1/27/apjaaeb88ieqn2.gif]  {${L}_{\\mathrm{IR}}$} , similar to low- J CO transitions. We report a systematic variation of  ##IMG## {${L}_{{[{\\rm{C}}{\\rm{I}}]}^{3}{P}_{1}\\,\\mbo...} \n",
      "\n",
      "2018-12-07T00:00:00Z\n",
      "The Effect of Baseline Layouts on the Epoch of Reionization Foreground Wedge: A Semianalytical  Approach \n",
      "\n",
      "The 2D power spectrum is a cornerstone of the modern toolkit for analysis of the low-frequency radio  interferometric observations of the 21 cm signal arising from the early universe. Its familiar form  disentangles a great deal of systematic information concerning both the sky and telescope and is  displayed as a foreground-dominated “brick” and “wedge” on large line-of-sight scales and a  complementary “window” on smaller scales. This paper builds on many previous works in the literature  that seek to elucidate the varied instrumental and foreground factors that contribute to these  familiar structures in the 2D power spectrum. In particular, we consider the effects of uv sampling  on the emergence of the wedge. Our results verify the expectation that arbitrarily dense instrument  layouts in principle restore the missing information that leads to mode mixing and can therefore  mitigate the wedge feature. We derive rule-of-thumb estimates for the required baseline density for  com... \n",
      "\n",
      "2018-12-07T00:00:00Z\n",
      "Constraining the Dark Matter Vacuum Energy Interaction Using the EDGES 21 cm Absorption Signal \n",
      "\n",
      "The recent measurement of the global 21 cm absorption signal reported by the Experiment to Detect  the Global Epoch of Reionization Signature (EDGES) Collaboration is in tension with the prediction  of the ΛCDM model at a 3.8 σ significance level. In this work, we report that this tension can be  released by introducing an interaction between dark matter and vacuum energy. We perform a model  parameter estimation using a combined data set including EDGES and other recent cosmological  observations, and find that the EDGES measurement can marginally improve the constraint on  parameters that quantify the interacting vacuum, and that the combined data set favors the ΛCDM at a  68% confidence level. This proof-of-concept study demonstrates the potential power of future 21 cm  experiments to constrain the interacting dark energy models. \n",
      "\n",
      "2018-12-07T00:00:00Z\n",
      "Evolution of Photospheric Vector Magnetic Field Associated with Moving Flare Ribbons as Seen by GST \n",
      "\n",
      "The photospheric response to solar flares, also known as coronal back reaction, is often observed as  sudden flare-induced changes in the vector magnetic field and sunspot motions. However, it remains  obscure whether evolving flare ribbons, the flare signature closest to the photosphere, are  accompanied by changes in vector magnetic field therein. Here we explore the relationship between  the dynamics of flare ribbons in the chromosphere and variations of magnetic fields in the  underlying photosphere, using high-resolution off-band H α images and near-infrared vector  magnetograms of the M6.5 flare on 2015 June 22 observed with the 1.6 m Goode Solar Telescope. We  find that changes of photospheric fields occur at the arrival of the flare ribbon front, thus  propagating analogously to flare ribbons. In general, the horizontal field increases and the field  lines become more inclined to the surface. When ribbons sweep through regions that undergo a  rotational motion, the fields tr... \n",
      "\n",
      "2018-12-07T00:00:00Z\n",
      "The 3D Thermal, Dynamical, and Chemical Structure of the Atmosphere of HD 189733b: Implications of  Wind-driven Chemistry for the Emission Phase Curve \n",
      "\n",
      "In this paper we present 3D atmospheric simulations of the hot Jupiter HD 189733b under two  different scenarios: local chemical equilibrium and including advection of the chemistry by the  resolved wind. Our model consistently couples the treatment of dynamics, radiative transfer, and  chemistry, completing the feedback cycle between these three important processes. The effect of  wind-driven advection on the chemical composition is qualitatively similar to our previous results  for the warmer atmosphere of HD 209458b, found using the same model. However, we find more  significant alterations to both the thermal and dynamical structure for the cooler atmosphere of  HD 189733b, with changes in both the temperature and wind velocities reaching around 10%. We also present  the contribution function, diagnosed from our simulations, and show that wind-driven chemistry has a  significant impact on its 3D structure, particularly for regions where methane is an important  absorber. Finally, we present... \n",
      "\n",
      "2018-12-07T00:00:00Z\n",
      "The Pickup Ion-mediated Solar Wind \n",
      "\n",
      "The New Horizons Solar Wind Around Pluto (NH SWAP) instrument has provided the first direct  observations of interstellar ##IMG##  [http://ej.iop.org/images/0004-637X/869/1/23/apjaaebfeieqn1.gif] {${\\rm{H}}{}^{+}$} and He ##IMG##  [http://ej.iop.org/images/0004-637X/869/1/23/apjaaebfeieqn2.gif] {${}^{+}$} pickup ions (PUIs) at  distances between around 11.26 and 38 au in the solar wind. The observations demonstrate that the distant  solar wind beyond the hydrogen ionization cavity is indeed mediated by PUIs. The creation of PUIs  modifies the underlying low-frequency turbulence field responsible for their own scattering. The  dissipation of these low-frequency fluctuations serves to heat the solar wind plasma, and accounts  for the observed non-adiabatic solar wind temperature profile and a possible slow temperature  increase beyond around 30 au. We develop a very general theoretical model that incorporates PUIs, solar  wind thermal plasma, the interplanetar... \n",
      "\n",
      "2018-12-07T00:00:00Z\n",
      "EoS Dependence of the Relic Supernova Neutrino Spectrum \n",
      "\n",
      "Understanding the mechanism of core-collapse supernova explosions requires knowledge of the nuclear  equation of state (EoS). Recent multi-dimensional numerical simulations indicate that explosions are  possible. Nevertheless, it is not yet fully understood which equation of state is realized in the  proto-neutron star formed during SN explosions. We examine the EoS sensitivity of the relic  supernova neutrino spectrum as a probe of the nuclear EoS. This sensitivity arises largely from the  contribution to neutrino emission from failed supernovae. We consider a variety of astrophysical  scenarios, which include different progenitor masses for a successful explosion, the cosmological  star formation rate, starbursts, quiescent star formation, and the metallicity dependence of the  initial mass function. We find that the EoS signature remains robust under a variety of conditions.  We demonstrate the viability of future neutrino detectors to distinguish the nuclear EoS via the  relic superno... \n",
      "\n",
      "2018-12-06T00:00:00Z\n",
      "A High Space Density of L * Active Galactic Nuclei at z around  4 in the COSMOS Field \n",
      "\n",
      "Identifying the source population of ionizing radiation, responsible for the reionization of the  universe, is currently a hotly debated subject with conflicting results. Studies of faint,  high-redshift star-forming galaxies, in most cases, fail to detect enough escaping ionizing  radiation to sustain the process. Recently, the capacity of bright quasi-stellar objects to ionize  their surrounding medium has been confirmed also for faint active galactic nuclei (AGNs), which were  found to display an escaping fraction of around 74% at z around  4. Such levels of escaping radiation could  sustain the required UV background, given the number density of faint AGNs is adequate. Thus, it is  mandatory to accurately measure the luminosity function of faint AGNs ( L around  L *) in the same  redshift range. For this reason we have conducted a spectroscopic survey, using the wide field  spectrograph IMACS at the 6.5 m Baade Telescope, to determine the nature of our sample of faint AGN  candidates... \n",
      "\n",
      "2018-12-06T00:00:00Z\n",
      "The Stellar Orbital Structure in Axisymmetric Galaxy Models with Supermassive Black Hole Binaries \n",
      "\n",
      "It has been well established that particular centrophilic orbital families in non-spherical galaxies  can, in principle, drive a black hole binary to shrink its orbit through three-body scattering until  the black holes are close enough to strongly emit gravitational waves. Most of these studies rely on  the orbital analysis of a static supermassive black hole (SMBH)-embedded galaxy potential to support  this view; it is not clear, however, how these orbits transform as the second SMBH enters the  center. So our understanding of which orbits actually interact with an SMBH binary is not ironclad.  Here, we analyze two flattened galaxy models, one with a single SMBH and one with a binary, to  determine which orbits actually do interact with the SMBH binary and how they compare with the set  predicted in single SMBH-embedded models. We find close correspondence between the centrophilic  orbits predicted to interact with the binary and those that are actually scattered by the binary, in  term... \n",
      "\n",
      "2018-12-06T00:00:00Z\n",
      "Size–Luminosity Scaling Relations of Local and Distant Star-forming Regions \n",
      "\n",
      "We investigate star-forming scaling relations using Bayesian inference on a comprehensive data  sample of low- ( z < 0.1) and high-redshift (1 < z < 5) star-forming regions. This full data set  spans a wide range of host galaxy stellar mass ( M * around  10 6 –10 11 ##IMG##  [http://ej.iop.org/images/0004-637X/869/1/11/apjaaeb8fieqn1.gif] {${M}_{\\odot }$} ) and clump star  formation rates (SFR around  10 −5 −10 2 ##IMG##  [http://ej.iop.org/images/0004-637X/869/1/11/apjaaeb8fieqn2.gif] {${M}_{\\odot }$} yr −1 ). We fit  the power-law relationship between the size ( ##IMG##  [http://ej.iop.org/images/0004-637X/869/1/11/apjaaeb8fieqn3.gif] {${r}_{{\\rm{H}}\\alpha }$} ) and  luminosity ( ##IMG## [http://ej.iop.org/images/0004-637X/869/1/11/apjaaeb8fieqn4.gif]  {${L}_{{\\rm{H}}\\alpha }$} ) of the star-forming clumps using the Bayesian stati... \n",
      "\n",
      "2018-12-06T00:00:00Z\n",
      "Gaps and Rings in an ALMA Survey of Disks in the Taurus Star-forming Region \n",
      "\n",
      "Rings are the most frequently revealed substructure in Atacama Large Millimeter/submillimeter Array  (ALMA) dust observations of protoplanetary disks, but their origin is still hotly debated. In this  paper, we identify dust substructures in 12 disks and measure their properties to investigate how  they form. This subsample of disks is selected from a high-resolution (around 0.″12) ALMA 1.33 mm survey  of 32 disks in the Taurus star-forming region, which was designed to cover a wide range of  brightness and to be unbiased to previously known substructures. While axisymmetric rings and gaps  are common within our sample, spiral patterns and high-contrast azimuthal asymmetries are not  detected. Fits of disk models to the visibilities lead to estimates of the location and shape of  gaps and rings, the flux in each disk component, and the size of the disk. The dust substructures  occur across a wide range of stellar mass and disk brightness. Disks with multiple rings tend to be  more massive and m... \n",
      "\n",
      "2018-12-06T00:00:00Z\n",
      "Self-gravitating Semi-transparent Circumstellar Disks: An Analytic Model \n",
      "\n",
      "An accretion–decretion ( A – D ) circumstellar disk model, suitable for analysis of light and radial  velocity (RV) curves, is developed for application to double contact binaries. A foundational  hypothesis is that systems as different as cataclysmic variables and W Serpentis binaries—types that  appear to have next to nothing in common other than being highly evolved, share the morphological  trait of double contact and the related evolutionary trait of having A – D disks. The development is  built upon a globally self-gravitating equipotential disk model and allows disk semi-transparency by  attenuation of internal disk light and the light of both binary components. Tidal stretching of the  disk with consequent brightness variation, as in the “ellipticity” effect for ordinary binaries, is  a natural consequence of the disk’s tidally distended structure. Light/velocity curve fitting for β  Lyrae and CI Aquilae explores the idea that accretion and decretion ... \n",
      "\n",
      "2018-12-06T00:00:00Z\n",
      "Reconciling Observed and Simulated Stellar Halo Masses \n",
      "\n",
      "We use cosmological hydrodynamical simulations of Milky Way–mass galaxies from the FIRE project to  evaluate various strategies for estimating the mass of a galaxy’s stellar halo from deep,  integrated-light images. We find good agreement with integrated-light observations if we mimic  observational methods to measure the mass of the stellar halo by selecting regions of an image via  projected radius relative to the disk scale length or by their surface density in stellar mass.  However, these observational methods systematically underestimate the accreted stellar component,  defined in our (and most) simulations as the mass of stars formed outside of the host galaxy, by up  to a factor of 10, since the accreted component is centrally concentrated and therefore  substantially obscured by the galactic disk. Furthermore, these observational methods introduce  spurious dependencies of the estimated accreted stellar component on the stellar mass and size of  galaxies that can obscure the tren... \n",
      "\n",
      "2018-12-06T00:00:00Z\n",
      "Comprehensive Analysis of HD 105, A Young Solar System Analog \n",
      "\n",
      "HD 105 is a nearby, pre-main-sequence G0 star hosting a moderately bright debris disk ( L dust / L ⋆   around  2.6 × 10 −4 ). The star and its surroundings might therefore be considered an analog of the young  solar system. We refine the stellar parameters based on an improved Gaia parallax distance and  identify it as a pre-main-sequence star with an age of 50 ± 16 Myr. The circumstellar disk was  marginally resolved by Herschel /PACS imaging at far-infrared wavelengths. Here, we present an  archival ALMA observation at 1.3 mm, revealing the extent and orientation of the disk. We also  present Hubble Space Telescope ( HST )/NICMOS and VLT/SPHERE near-infrared images, where we recover  the disk in scattered light at the ≥5 σ level. This was achieved by employing a novel annular  averaging technique and is the first time this has been achieved for a disk in scattered light.  Simultaneous modeling of the available photometry... \n",
      "\n",
      "2018-12-06T00:00:00Z\n",
      "Methane in Analogs of Young Directly Imaged Exoplanets \n",
      "\n",
      "We present detections of methane in R around  1300, L -band spectra of VHS 1256 b and PSO 318.5, two  low-gravity, red, late L dwarfs that share the same colors as the HR 8799 planets. These spectra  reveal shallow methane features, which indicate VHS 1256 b and PSO 318.5 have photospheres that are  out of chemical equilibrium. Directly imaged exoplanets usually have redder near-infrared colors  than the field-age population of brown dwarfs on a color–magnitude diagram. These objects along the  L-to-T transition show reduced methane absorption and evidence of photospheric clouds. Compared to  the H- and K -bands, L -band (3 μ m–4 μ m) spectroscopy provides stronger constraints on the methane  abundances of brown dwarfs and directly imaged exoplanets that have similar effective temperatures  to L-to-T transition objects. When combined with near-infrared spectra, the L -band extends our  conventional wavelength coverage, increasing our understand... \n",
      "\n",
      "2018-12-06T00:00:00Z\n",
      "β -delayed Fission in r -process Nucleosynthesis \n",
      "\n",
      "We present β -delayed neutron emission and β -delayed fission ( β df) calculations for heavy,  neutron-rich nuclei using the coupled Quasi-Particle Random Phase Approximation plus Hauser-Feshbach  (QRPA+HF) approach. From the initial population of a compound nucleus after β -decay, we follow the  statistical decay, taking into account competition between neutrons, γ -rays, and fission. We find a  region of the chart of nuclides where the probability of β df is around 100%, which likely prevents the  production of superheavy elements in nature. For a subset of nuclei near the neutron dripline,  neutron multiplicity and the probability of fission are both large, leading to the intriguing  possibility of multi-chance β df, a decay mode for extremely neutron-rich heavy nuclei. In this  decay mode, β -decay can be followed by multiple neutron emission, leading to subsequent daughter  generations that each have a probability to fission. We explore the i... \n",
      "\n",
      "2018-12-06T00:00:00Z\n",
      "Mass–Metallicity Relation and Fundamental Metallicity Relation of Metal-poor Star-forming Galaxies  at0.6 < Z < 0.9 from the eBOSS Survey \n",
      "\n",
      "The stellar mass–metallicity relation ( M ⋆ – Z ; MZR) indicates that the metallicities of galaxies  increase with increasing stellar masses. The fundamental metallicity relation (FMR) suggests that  galaxies with higher star formation rates (SFRs) tend to have lower metallicities for a given  stellar mass. To examine whether the MZR and FMR still hold at poorer metallicities and higher  redshifts, we compile a sample of 35 star-forming galaxies (SFGs) at0.6 < z < 0.9 using the public  spectral database (v5_10_0) of emission-line galaxies from the extended Baryon Oscillation  Spectroscopic Survey. These galaxies are identified for their significant auroral [O iii ] λ 4363  emission line (S/N ≥ 3). With the electronic temperature metallicity calibration, we find nine SFGs  that are extremely metal-poor galaxies with 12 + log(O/H) ≤ 7.69 (1/10 Z ⊙ ). The metallicity of the  most metal-deficient galaxy is 7.35 ... \n",
      "\n",
      "2018-12-06T00:00:00Z\n",
      "Magnetohydrodynamic Simulation of the X9.3 Flare on 2017 September 6: Evolving Magnetic Topology \n",
      "\n",
      "Three-dimensional magnetic topology is crucial to understanding the explosive release of magnetic  energy in the corona during solar flares. Much attention has been given to the pre-flare magnetic  topology to identify candidate sites of magnetic reconnection, yet it is unclear how the magnetic  reconnection and its attendant topological changes shape the eruptive structure and how the topology  evolves during the eruption. Here we employed a realistic, data-constrained magnetohydrodynamic  simulation to study the evolving magnetic topology for an X9.3 eruptive flare that occurred on 2017  September 6. The simulation successfully reproduces the eruptive features and processes in  unprecedented detail. The numerical results reveal that the pre-flare corona contains multiple  twisted flux systems with different connections, and during the eruption these twisted fluxes form a  coherent flux rope through tether-cutting-like magnetic reconnection below the rope. Topological  analysis shows tha... \n",
      "\n"
     ]
    }
   ],
   "source": [
    "for i in range(len(entrylist)):\n",
    "    print(entrylist[i]['date'])\n",
    "    print(simplecleanup(entrylist[i]['title']), \"\\n\")\n",
    "    print(simplecleanup(entrylist[i]['summary']), \"\\n\")"
   ]
  },
  {
   "cell_type": "code",
   "execution_count": 135,
   "metadata": {},
   "outputs": [
    {
     "data": {
      "text/plain": [
       "'Comprehensive Measurements of the Volume-phase Holographic Gratings for the Dark Energy\\r\\nSpectroscopic Instrument'"
      ]
     },
     "execution_count": 135,
     "metadata": {},
     "output_type": "execute_result"
    }
   ],
   "source": [
    "ent['title']"
   ]
  },
  {
   "cell_type": "code",
   "execution_count": 136,
   "metadata": {},
   "outputs": [],
   "source": [
    "\n",
    "\n",
    "this = ArticleEntry_APJL(ent, ent['date'], 1)"
   ]
  },
  {
   "cell_type": "code",
   "execution_count": 137,
   "metadata": {},
   "outputs": [
    {
     "data": {
      "text/plain": [
       "'0e942dea-fa05-303d-8098-ec420d33a32c'"
      ]
     },
     "execution_count": 137,
     "metadata": {},
     "output_type": "execute_result"
    }
   ],
   "source": [
    "this.id"
   ]
  },
  {
   "cell_type": "code",
   "execution_count": 138,
   "metadata": {},
   "outputs": [
    {
     "data": {
      "text/plain": [
       "['Yuzo Ishikawa', 'Martin M. Sirk', 'Jerry Edelstein', 'et al']"
      ]
     },
     "execution_count": 138,
     "metadata": {},
     "output_type": "execute_result"
    }
   ],
   "source": [
    "this.author_list_short"
   ]
  },
  {
   "cell_type": "code",
   "execution_count": 139,
   "metadata": {},
   "outputs": [],
   "source": [
    "def main():\n",
    "    feed = feedparser.parse(APJL_URL)\n",
    "    entrylist = []\n",
    "    for ent in feed[\"entries\"]:\n",
    "        entrylist.append(ent)\n",
    "\n",
    "    json_list = [ construct_alexa_dict(entrylist[i], entrylist[i]['updated'], i) for i in range(5)]\n",
    "    output = json.dumps(json_list)\n",
    "    return output"
   ]
  },
  {
   "cell_type": "code",
   "execution_count": 140,
   "metadata": {},
   "outputs": [
    {
     "data": {
      "text/plain": [
       "'[{\"uid\": \"0e942dea-fa05-303d-8098-ec420d33a32c\", \"updateDate\": \"2018-12-07T00:00:00.000000Z\", \"titleText\": \"Comprehensive Measurements of the Volume-phase Holographic Gratings for the Dark Energy  Spectroscopic Instrument\", \"redirectionUrl\": \"http://iopscience.iop.org/0004-637X/869/1/24\", \"mainText\": \"Comprehensive Measurements of the Volume-phase Holographic Gratings for the Dark Energy  Spectroscopic Instrumentby Yuzo Ishikawa, Martin M. Sirk, Jerry Edelstein, et al. The Dark Energy Spectroscopic Instrument (DESI) is a Stage IV ground-based dark energy experiment  that will be employed on the Mayall 4 m Telescope to study the expansion history of the universe. In  the era of massively multiplexed fiber-fed spectrographs, DESI will push the boundaries of fiber  spectroscopy with a design capable of taking 5000 aboutultaneous spectra over 360 to 980 nm. The  instrument utilizes a suite of three-channel spectrographs, where volume-phase holographic (VPH)  gratings provide dispersions. Thirty-six VPH gratings were produced and their performances were  evaluated at the Lawrence Berkeley National Laboratory. We present the design and the evaluation  tests for the production run of the VPH gratings, verifying the incidence angle, area-weighted  efficiency, and wavefront errors (WFEs). We also present the specialized test set-up developed  on-site to assess the grating performances. Measurements of the VPH gratings show high consistency  in area-weighted effici...\"}, {\"uid\": \"999f4ffa-590e-3ca8-8890-331beca419d3\", \"updateDate\": \"2018-12-07T00:00:01.000000Z\", \"titleText\": \"Quest for the Donor Star in the Magnetic Precataclysmic Variable V1082 Sgr\", \"redirectionUrl\": \"http://iopscience.iop.org/0004-637X/869/1/22\", \"mainText\": \"Quest for the Donor Star in the Magnetic Precataclysmic Variable V1082 Sgrby G. Tovmassian, J. F. Gonz\\\\u00e1lez, M.-S. Hern\\\\u00e1ndez, et al. We obtained high-resolution spectra and multicolor photometry of V1082 Sgr to study the donor star  in this 20.8 hr orbital period binary, which is assumed to be a detached system. We measured the  rotational velocity ( ##IMG## [http://ej.iop.org/images/0004-637X/869/1/22/apjaaec02ieqn1.gif]  { v sin i=26.5 pm 2.0   km s \\\\u22121 ), which, coupled with the constraints on the white dwarf mass from  the X-ray spectroscopy, leads to the conclusion that the donor star barely fills 70% of its  corresponding Roche lobe radius. It appears to be a slightly evolved K2-type star. This conclusion  was further supported by a recently published distance to the binary system measured by the Gaia  mission. At the same time, it becomes difficult to explain a very high (greater than10 \\\\u22129 ##IMG##  [http://ej.iop.org/images/0004-637X/869/1/22/apjaaec02ieqn2.gif] { {M   odot    ,{ mathrm{yr  ^{-1    ) mass transfer and mass accretion rate in a detached ...\"}, {\"uid\": \"3d0bf435-a42b-3f22-9302-15840fe25fa1\", \"updateDate\": \"2018-12-07T00:00:02.000000Z\", \"titleText\": \"Dependence of the Spiral Arms Pitch Angle on Wavelength as a Test of the Density Wave Theory\", \"redirectionUrl\": \"http://iopscience.iop.org/0004-637X/869/1/29\", \"mainText\": \"Dependence of the Spiral Arms Pitch Angle on Wavelength as a Test of the Density Wave Theoryby Si-Yue Yu and Luis C. Ho. Large-scale galactic shocks, predicted by density wave theory, trigger star formation (SF-arms)  downstream from the potential of the oldest stars (P-arms), resulting in a color jump from red to  blue across spiral arms in the direction of rotation, while aging of these newly formed young stars  induces the opposite but coexisting classic age gradient further downstream from the SF-arms. As the  techniques for measuring pitch angle are intensity-weighted, they trace both the SF-arms and P-arms  and are not sensitive to the classic age gradient. Consequently, the measured pitch angle of spiral  arms should be systematically smaller in bluer bandpasses compared to redder bandpasses. We test  these predictions using a comprehensive sample of high-quality optical ( BVRI ) images of bright,  nearby spiral galaxies acquired as part of the Carnegie-Irvine Galaxy Survey, supplemented by  Spitzer\\\\u00a03.6 \\\\u03bc m data to probe evolved stars and Galaxy Evolution Explorer ultraviole...\"}, {\"uid\": \"187b17cf-cf9a-3d9c-934e-395342691afe\", \"updateDate\": \"2018-12-07T00:00:03.000000Z\", \"titleText\": \"Radio-loud Active Galactic Nucleus Variability from Three-dimensional Propagating Relativistic Jets\", \"redirectionUrl\": \"http://iopscience.iop.org/0004-637X/869/1/32\", \"mainText\": \"Radio-loud Active Galactic Nucleus Variability from Three-dimensional Propagating Relativistic Jetsby Yutong Li, Paul J. Wiita, Terance Schuh, et al. The enormous sizes and variability of emission of radio-loud active galactic nuclei arise from the  relativistic flows of plasma along two oppositely directed jets. We use the Athena hydrodynamics  code to aboutulate an extensive suite of 54 propagating three-dimensional relativistic jets with wide  ranges of input jet velocities and jet-to-ambient matter density ratios. We determine which  parameter sets yield unstable jets that produce jet-dominated Fanaroff\\\\u2013Riley I (FR I) radio galaxy  morphologies and which tend to produce stable jets with hot spots and FR II morphologies. Nearly all  our aboutulations involve jets with internal pressures matched to those of the ambient medium but we  also consider over-pressured jets and discuss differences from the standard ones. We also show that  the results are not strongly dependent on the adiabatic index of the fluid. We focus on aboutulations  that remain stable for extended distances (60\\\\u2013240 times the initial jet radius). Scaled to the much  smalle...\"}, {\"uid\": \"09d3a373-7bed-3c32-9e2c-78bac704a9f5\", \"updateDate\": \"2018-12-07T00:00:04.000000Z\", \"titleText\": \"Investigating Inner and Large-scale Physical Environments of IRAS 17008-4040 and IRAS 17009-4042  toward L\\\\u00a0=\\\\u00a0345.\\\\u00b05, B\\\\u00a0=\\\\u00a00.\\\\u00b03\", \"redirectionUrl\": \"http://iopscience.iop.org/0004-637X/869/1/30\", \"mainText\": \"Investigating Inner and Large-scale Physical Environments of IRAS 17008-4040 and IRAS 17009-4042  toward L\\\\u00a0=\\\\u00a0345.\\\\u00b05, B\\\\u00a0=\\\\u00a00.\\\\u00b03by L. K. Dewangan, T. Baug, D. K. Ojha, et al. We present a multiwavelength observational study of IRAS 17008-4040 and IRAS 17009-4042 to probe the  star formation (SF) mechanisms operational in both the sites. Each IRAS site is embedded within a  massive ATLASGAL 870 \\\\u03bc m clump (\\\\u223c2430\\\\u20132900 M \\\\u2299 ), and several parsec-scale filaments at 160 \\\\u03bc m are  radially directed toward these clumps (at T d \\\\u223c 25\\\\u201332 K). The analysis of the Spitzer and VVV  photometric data depicts a group of infrared-excess sources toward both the clumps, suggesting the  ongoing SF activities. In each IRAS site, high-resolution GMRT radio maps at 0.61 and 1.28 GHz  confirm the presence of H ii regions, which are powered by B-type stars. In the site IRAS  17008-4040, a previously known O-star candidate without an H ii region is identified as an infrared  counterpart of the 6.7 GHz methanol maser emission (i.e., IRcmme). Based on the Very Larg...\"}]'"
      ]
     },
     "execution_count": 140,
     "metadata": {},
     "output_type": "execute_result"
    }
   ],
   "source": [
    "main()"
   ]
  },
  {
   "cell_type": "code",
   "execution_count": 124,
   "metadata": {},
   "outputs": [
    {
     "data": {
      "text/plain": [
       "{'id': 'http://iopscience.iop.org/0004-637X/869/1/24',\n",
       " 'title': 'Comprehensive Measurements of the Volume-phase Holographic Gratings for the Dark Energy\\r\\nSpectroscopic Instrument',\n",
       " 'title_detail': {'type': 'text/plain',\n",
       "  'language': None,\n",
       "  'base': '',\n",
       "  'value': 'Comprehensive Measurements of the Volume-phase Holographic Gratings for the Dark Energy\\r\\nSpectroscopic Instrument'},\n",
       " 'links': [{'rel': 'alternate',\n",
       "   'type': 'text/html',\n",
       "   'href': 'http://iopscience.iop.org/0004-637X/869/1/24'}],\n",
       " 'link': 'http://iopscience.iop.org/0004-637X/869/1/24',\n",
       " 'summary': 'The Dark Energy Spectroscopic Instrument (DESI) is a Stage IV ground-based dark energy experiment\\r\\nthat will be employed on the Mayall 4 m Telescope to study the expansion history of the universe. In\\r\\nthe era of massively multiplexed fiber-fed spectrographs, DESI will push the boundaries of fiber\\r\\nspectroscopy with a design capable of taking 5000 simultaneous spectra over 360 to 980 nm. The\\r\\ninstrument utilizes a suite of three-channel spectrographs, where volume-phase holographic (VPH)\\r\\ngratings provide dispersions. Thirty-six VPH gratings were produced and their performances were\\r\\nevaluated at the Lawrence Berkeley National Laboratory. We present the design and the evaluation\\r\\ntests for the production run of the VPH gratings, verifying the incidence angle, area-weighted\\r\\nefficiency, and wavefront errors (WFEs). We also present the specialized test set-up developed\\r\\non-site to assess the grating performances. Measurements of the VPH gratings show high consistency\\r\\nin area-weighted effici...',\n",
       " 'summary_detail': {'type': 'text/html',\n",
       "  'language': None,\n",
       "  'base': '',\n",
       "  'value': 'The Dark Energy Spectroscopic Instrument (DESI) is a Stage IV ground-based dark energy experiment\\r\\nthat will be employed on the Mayall 4 m Telescope to study the expansion history of the universe. In\\r\\nthe era of massively multiplexed fiber-fed spectrographs, DESI will push the boundaries of fiber\\r\\nspectroscopy with a design capable of taking 5000 simultaneous spectra over 360 to 980 nm. The\\r\\ninstrument utilizes a suite of three-channel spectrographs, where volume-phase holographic (VPH)\\r\\ngratings provide dispersions. Thirty-six VPH gratings were produced and their performances were\\r\\nevaluated at the Lawrence Berkeley National Laboratory. We present the design and the evaluation\\r\\ntests for the production run of the VPH gratings, verifying the incidence angle, area-weighted\\r\\nefficiency, and wavefront errors (WFEs). We also present the specialized test set-up developed\\r\\non-site to assess the grating performances. Measurements of the VPH gratings show high consistency\\r\\nin area-weighted effici...'},\n",
       " 'authors': [{'name': 'Yuzo Ishikawa, Martin M. Sirk, Jerry Edelstein, Patrick Jelinsky, David Brooks and Gregory Tarle (DESI Collaboration)'}],\n",
       " 'author': 'Yuzo Ishikawa, Martin M. Sirk, Jerry Edelstein, Patrick Jelinsky, David Brooks and Gregory Tarle (DESI Collaboration)',\n",
       " 'author_detail': {'name': 'Yuzo Ishikawa, Martin M. Sirk, Jerry Edelstein, Patrick Jelinsky, David Brooks and Gregory Tarle (DESI Collaboration)'},\n",
       " 'updated': '2018-12-07T00:00:00Z',\n",
       " 'updated_parsed': time.struct_time(tm_year=2018, tm_mon=12, tm_mday=7, tm_hour=0, tm_min=0, tm_sec=0, tm_wday=4, tm_yday=341, tm_isdst=0),\n",
       " 'dc_source': 'The Astrophysical Journal',\n",
       " 'iop_authors': 'Yuzo Ishikawa <em>et al.</em>',\n",
       " 'iop_citation': 'Yuzo Ishikawa <em>et al.</em> 2018 <em>ApJ</em> <b>869</b> 24',\n",
       " 'iop_pdf': 'http://iopscience.iop.org/0004-637X/869/1/24/pdf/apj_869_1_24.pdf',\n",
       " 'prism_coverdisplaydate': '10/December/2018',\n",
       " 'prism_number': '1',\n",
       " 'prism_volume': '869',\n",
       " 'prism_publicationname': 'The Astrophysical Journal',\n",
       " 'prism_startingpage': '24',\n",
       " 'prism_doi': '10.3847/1538-4357/aaebfb'}"
      ]
     },
     "execution_count": 124,
     "metadata": {},
     "output_type": "execute_result"
    }
   ],
   "source": [
    "ent"
   ]
  },
  {
   "cell_type": "code",
   "execution_count": 109,
   "metadata": {},
   "outputs": [],
   "source": [
    "import uuid"
   ]
  },
  {
   "cell_type": "code",
   "execution_count": 115,
   "metadata": {},
   "outputs": [
    {
     "data": {
      "text/plain": [
       "'0e942dea-fa05-303d-8098-ec420d33a32c'"
      ]
     },
     "execution_count": 115,
     "metadata": {},
     "output_type": "execute_result"
    }
   ],
   "source": [
    "str(uuid.uuid3(uuid.NAMESPACE_URL, ent['id']))"
   ]
  },
  {
   "cell_type": "code",
   "execution_count": null,
   "metadata": {},
   "outputs": [],
   "source": []
  }
 ],
 "metadata": {
  "kernelspec": {
   "display_name": "Python 3",
   "language": "python",
   "name": "python3"
  },
  "language_info": {
   "codemirror_mode": {
    "name": "ipython",
    "version": 3
   },
   "file_extension": ".py",
   "mimetype": "text/x-python",
   "name": "python",
   "nbconvert_exporter": "python",
   "pygments_lexer": "ipython3",
   "version": "3.6.6"
  }
 },
 "nbformat": 4,
 "nbformat_minor": 2
}
